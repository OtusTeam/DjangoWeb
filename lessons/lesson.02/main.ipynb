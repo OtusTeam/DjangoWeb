{
 "cells": [
  {
   "cell_type": "code",
   "execution_count": 1,
   "id": "c61d3675-c96d-4dd8-ada3-2087ec201cb6",
   "metadata": {},
   "outputs": [
    {
     "name": "stdout",
     "output_type": "stream",
     "text": [
      "\n"
     ]
    }
   ],
   "source": [
    "print(\"\")"
   ]
  },
  {
   "cell_type": "code",
   "execution_count": 2,
   "id": "1702a0c9-e92d-432e-a13f-d2bd52918e56",
   "metadata": {},
   "outputs": [
    {
     "name": "stdout",
     "output_type": "stream",
     "text": [
      "a b\n"
     ]
    }
   ],
   "source": [
    "print(\"a\", \"b\")"
   ]
  },
  {
   "cell_type": "code",
   "execution_count": 3,
   "id": "b0dc8b29-8dbb-44d9-9934-31ddfd994013",
   "metadata": {},
   "outputs": [
    {
     "name": "stdout",
     "output_type": "stream",
     "text": [
      "\n"
     ]
    }
   ],
   "source": [
    "print()"
   ]
  },
  {
   "cell_type": "code",
   "execution_count": 4,
   "id": "4651a2cf-1bbe-414a-af58-caa9302448e2",
   "metadata": {},
   "outputs": [],
   "source": [
    "def add(a, b):\n",
    "    return a + b"
   ]
  },
  {
   "cell_type": "code",
   "execution_count": 5,
   "id": "a675138e-79b3-4f27-9614-4ffbb635a3fd",
   "metadata": {},
   "outputs": [
    {
     "data": {
      "text/plain": [
       "13"
      ]
     },
     "execution_count": 5,
     "metadata": {},
     "output_type": "execute_result"
    }
   ],
   "source": [
    "add(5, 8)"
   ]
  },
  {
   "cell_type": "code",
   "execution_count": 6,
   "id": "f10c4151-ea72-4568-956e-477f6472125e",
   "metadata": {},
   "outputs": [
    {
     "data": {
      "text/plain": [
       "function"
      ]
     },
     "execution_count": 6,
     "metadata": {},
     "output_type": "execute_result"
    }
   ],
   "source": [
    "type(add)"
   ]
  },
  {
   "cell_type": "code",
   "execution_count": 7,
   "id": "67552272-c6a3-4dae-a295-87fd31a4c4aa",
   "metadata": {},
   "outputs": [
    {
     "name": "stdout",
     "output_type": "stream",
     "text": [
      "<class 'function'>\n"
     ]
    }
   ],
   "source": [
    "print(type(add))"
   ]
  },
  {
   "cell_type": "code",
   "execution_count": 8,
   "id": "0dc50771-a313-425e-9257-d63b71382677",
   "metadata": {},
   "outputs": [],
   "source": [
    "class User:\n",
    "    pass"
   ]
  },
  {
   "cell_type": "code",
   "execution_count": 9,
   "id": "6f0fa355-a2ea-46ab-bea2-aef9f14b3aa9",
   "metadata": {},
   "outputs": [],
   "source": [
    "user_a = User()"
   ]
  },
  {
   "cell_type": "code",
   "execution_count": 10,
   "id": "7dcb8567-56a9-439e-9e09-cde678c8109a",
   "metadata": {},
   "outputs": [
    {
     "name": "stdout",
     "output_type": "stream",
     "text": [
      "<class '__main__.User'>\n"
     ]
    }
   ],
   "source": [
    "print(type(user_a))"
   ]
  },
  {
   "cell_type": "code",
   "execution_count": 11,
   "id": "c8614519-6062-484a-8861-6c0da073c45e",
   "metadata": {},
   "outputs": [
    {
     "data": {
      "text/plain": [
       "''"
      ]
     },
     "execution_count": 11,
     "metadata": {},
     "output_type": "execute_result"
    }
   ],
   "source": [
    "str()"
   ]
  },
  {
   "cell_type": "code",
   "execution_count": 12,
   "id": "02c85887-6374-4de8-9e03-28a80bdde3c9",
   "metadata": {},
   "outputs": [
    {
     "name": "stdout",
     "output_type": "stream",
     "text": [
      "<class 'str'>\n"
     ]
    }
   ],
   "source": [
    "print(type(str()))"
   ]
  },
  {
   "cell_type": "code",
   "execution_count": 13,
   "id": "3e9fff6f-c8d1-4278-9b4c-877d85c1e825",
   "metadata": {},
   "outputs": [
    {
     "name": "stdout",
     "output_type": "stream",
     "text": [
      "<class 'str'>\n"
     ]
    }
   ],
   "source": [
    "print(type(''))"
   ]
  },
  {
   "cell_type": "code",
   "execution_count": 14,
   "id": "d98ba4b7-9f96-48b6-b425-3eca9ac089f7",
   "metadata": {},
   "outputs": [
    {
     "data": {
      "text/plain": [
       "True"
      ]
     },
     "execution_count": 14,
     "metadata": {},
     "output_type": "execute_result"
    }
   ],
   "source": [
    "str() == ''"
   ]
  },
  {
   "cell_type": "code",
   "execution_count": 15,
   "id": "6810ca03-2bbe-4dcc-afa7-dc794f556684",
   "metadata": {},
   "outputs": [
    {
     "name": "stdout",
     "output_type": "stream",
     "text": [
      "<class '__main__.User'>\n"
     ]
    }
   ],
   "source": [
    "print(type(user_a))"
   ]
  },
  {
   "cell_type": "code",
   "execution_count": 16,
   "id": "12a2c8c4-b3fe-4f29-98f0-d60bf3862404",
   "metadata": {},
   "outputs": [
    {
     "name": "stdout",
     "output_type": "stream",
     "text": [
      "<class 'type'>\n"
     ]
    }
   ],
   "source": [
    "print(type(User))"
   ]
  },
  {
   "cell_type": "code",
   "execution_count": 17,
   "id": "0343f559-c819-429b-933d-036d9597ef1e",
   "metadata": {},
   "outputs": [
    {
     "name": "stdout",
     "output_type": "stream",
     "text": [
      "<class 'type'>\n"
     ]
    }
   ],
   "source": [
    "print(type(type(user_a)))"
   ]
  },
  {
   "cell_type": "code",
   "execution_count": 18,
   "id": "435bb42b-b5cf-4f16-b0b2-0c61bfe9dc60",
   "metadata": {},
   "outputs": [],
   "source": [
    "sam = User()\n",
    "john = User()"
   ]
  },
  {
   "cell_type": "code",
   "execution_count": 19,
   "id": "d2118963-843e-4284-a52f-4d89bf056f44",
   "metadata": {},
   "outputs": [
    {
     "data": {
      "text/plain": [
       "False"
      ]
     },
     "execution_count": 19,
     "metadata": {},
     "output_type": "execute_result"
    }
   ],
   "source": [
    "sam is john"
   ]
  },
  {
   "cell_type": "code",
   "execution_count": 20,
   "id": "c1cbacce-721d-4fe9-8c56-32637e88eff1",
   "metadata": {},
   "outputs": [],
   "source": [
    "sam.username = \"sam\""
   ]
  },
  {
   "cell_type": "code",
   "execution_count": 21,
   "id": "95afb82e-78a9-476c-ba57-cd1d624ce78b",
   "metadata": {},
   "outputs": [
    {
     "name": "stdout",
     "output_type": "stream",
     "text": [
      "sam\n"
     ]
    }
   ],
   "source": [
    "print(sam.username)"
   ]
  },
  {
   "cell_type": "code",
   "execution_count": 22,
   "id": "37efb95f-148f-4fb8-ae21-cca5eabf9906",
   "metadata": {},
   "outputs": [
    {
     "ename": "AttributeError",
     "evalue": "'User' object has no attribute 'username'",
     "output_type": "error",
     "traceback": [
      "\u001b[31m---------------------------------------------------------------------------\u001b[39m",
      "\u001b[31mAttributeError\u001b[39m                            Traceback (most recent call last)",
      "\u001b[36mCell\u001b[39m\u001b[36m \u001b[39m\u001b[32mIn[22]\u001b[39m\u001b[32m, line 1\u001b[39m\n\u001b[32m----> \u001b[39m\u001b[32m1\u001b[39m \u001b[38;5;28mprint\u001b[39m(\u001b[43mjohn\u001b[49m\u001b[43m.\u001b[49m\u001b[43musername\u001b[49m)\n",
      "\u001b[31mAttributeError\u001b[39m: 'User' object has no attribute 'username'"
     ]
    }
   ],
   "source": [
    "print(john.username)"
   ]
  },
  {
   "cell_type": "code",
   "execution_count": 23,
   "id": "4c0d9449-f234-449b-9262-d903266b74fa",
   "metadata": {},
   "outputs": [
    {
     "data": {
      "text/plain": [
       "__main__.User"
      ]
     },
     "execution_count": 23,
     "metadata": {},
     "output_type": "execute_result"
    }
   ],
   "source": [
    "type(sam)"
   ]
  },
  {
   "cell_type": "code",
   "execution_count": 24,
   "id": "7922e612-a46d-4fab-b3df-2302f0b67d60",
   "metadata": {},
   "outputs": [
    {
     "data": {
      "text/plain": [
       "__main__.User"
      ]
     },
     "execution_count": 24,
     "metadata": {},
     "output_type": "execute_result"
    }
   ],
   "source": [
    "type(john)"
   ]
  },
  {
   "cell_type": "code",
   "execution_count": 25,
   "id": "16f81587-32fc-4f5c-8ddb-f0725938b735",
   "metadata": {},
   "outputs": [],
   "source": [
    "def init_user(user, username=None):\n",
    "    user.username = username"
   ]
  },
  {
   "cell_type": "code",
   "execution_count": 26,
   "id": "9050a098-56a3-4a50-8bda-f6e38fd6ce08",
   "metadata": {},
   "outputs": [
    {
     "name": "stdout",
     "output_type": "stream",
     "text": [
      "None\n",
      "jack\n"
     ]
    }
   ],
   "source": [
    "nick = User()\n",
    "init_user(nick)\n",
    "print(nick.username)\n",
    "\n",
    "jack = User()\n",
    "init_user(jack, username=\"jack\")\n",
    "print(jack.username)"
   ]
  },
  {
   "cell_type": "code",
   "execution_count": 27,
   "id": "a9f568c8-9a0d-4b81-bf35-f5ef3f2f2270",
   "metadata": {},
   "outputs": [],
   "source": [
    "User.__init__ = init_user"
   ]
  },
  {
   "cell_type": "code",
   "execution_count": 28,
   "id": "455e28ce-08c3-45d0-b7a0-e2b14c607c56",
   "metadata": {},
   "outputs": [
    {
     "name": "stdout",
     "output_type": "stream",
     "text": [
      "bob\n",
      "None\n"
     ]
    }
   ],
   "source": [
    "bob = User(username=\"bob\")\n",
    "print(bob.username)\n",
    "\n",
    "alice = User()\n",
    "print(alice.username)"
   ]
  },
  {
   "cell_type": "code",
   "execution_count": 31,
   "id": "8d3bffcd-ff40-4deb-8da7-378aaa4228e9",
   "metadata": {},
   "outputs": [],
   "source": [
    "class User:\n",
    "    def __init__(self, username=None):\n",
    "        self.age = 0\n",
    "        self.username = username\n",
    "\n",
    "    def increase_age(self):\n",
    "        self.age += 1"
   ]
  },
  {
   "cell_type": "code",
   "execution_count": 32,
   "id": "3c87de5e-bc5c-4d38-9a58-eebc025823b8",
   "metadata": {},
   "outputs": [
    {
     "name": "stdout",
     "output_type": "stream",
     "text": [
      "bob\n",
      "0\n"
     ]
    }
   ],
   "source": [
    "bob = User(\"bob\")\n",
    "print(bob.username)\n",
    "print(bob.age)"
   ]
  },
  {
   "cell_type": "code",
   "execution_count": 33,
   "id": "8836dd09-c053-4877-973b-c64351dc039a",
   "metadata": {},
   "outputs": [
    {
     "name": "stdout",
     "output_type": "stream",
     "text": [
      "1\n"
     ]
    }
   ],
   "source": [
    "bob.increase_age()\n",
    "print(bob.age)"
   ]
  },
  {
   "cell_type": "code",
   "execution_count": 40,
   "id": "b9a48fdd-eb49-4574-9161-537e31b3388c",
   "metadata": {},
   "outputs": [
    {
     "data": {
      "text/plain": [
       "(__main__.User, object)"
      ]
     },
     "execution_count": 40,
     "metadata": {},
     "output_type": "execute_result"
    }
   ],
   "source": [
    "type(bob).__mro__"
   ]
  },
  {
   "cell_type": "code",
   "execution_count": 41,
   "id": "5b5cfe1d-aa5d-4348-885d-34e7689b0972",
   "metadata": {},
   "outputs": [
    {
     "data": {
      "text/plain": [
       "<method-wrapper '__repr__' of User object at 0x10a79cec0>"
      ]
     },
     "execution_count": 41,
     "metadata": {},
     "output_type": "execute_result"
    }
   ],
   "source": [
    "bob.__repr__"
   ]
  },
  {
   "cell_type": "code",
   "execution_count": 42,
   "id": "f93b3865-81ef-4747-a043-8181972344db",
   "metadata": {},
   "outputs": [
    {
     "name": "stdout",
     "output_type": "stream",
     "text": [
      "<method-wrapper '__repr__' of User object at 0x10a79cec0>\n"
     ]
    }
   ],
   "source": [
    "print(bob.__repr__)"
   ]
  },
  {
   "cell_type": "code",
   "execution_count": 43,
   "id": "9bdb8ede-f803-4197-944f-04478422e404",
   "metadata": {},
   "outputs": [
    {
     "data": {
      "text/plain": [
       "method-wrapper"
      ]
     },
     "execution_count": 43,
     "metadata": {},
     "output_type": "execute_result"
    }
   ],
   "source": [
    "type(bob.__repr__)"
   ]
  },
  {
   "cell_type": "code",
   "execution_count": 45,
   "id": "36249d93-bb7a-45e7-aed5-852ec03bf878",
   "metadata": {},
   "outputs": [
    {
     "data": {
      "text/plain": [
       "(type, object)"
      ]
     },
     "execution_count": 45,
     "metadata": {},
     "output_type": "execute_result"
    }
   ],
   "source": [
    "type.__mro__"
   ]
  },
  {
   "cell_type": "code",
   "execution_count": 46,
   "id": "198e6fbb-2387-4721-a590-894849984e29",
   "metadata": {},
   "outputs": [
    {
     "data": {
      "text/plain": [
       "function"
      ]
     },
     "execution_count": 46,
     "metadata": {},
     "output_type": "execute_result"
    }
   ],
   "source": [
    "type(add)"
   ]
  },
  {
   "cell_type": "code",
   "execution_count": 47,
   "id": "2fb5843e-6875-4aac-afa4-3e8b2df144d8",
   "metadata": {},
   "outputs": [
    {
     "name": "stdout",
     "output_type": "stream",
     "text": [
      "<class 'function'>\n"
     ]
    }
   ],
   "source": [
    "print(type(add))"
   ]
  },
  {
   "cell_type": "code",
   "execution_count": 48,
   "id": "5b03eaba-7c27-49a6-ae5d-de2c14df7bb8",
   "metadata": {},
   "outputs": [
    {
     "data": {
      "text/plain": [
       "(function, object)"
      ]
     },
     "execution_count": 48,
     "metadata": {},
     "output_type": "execute_result"
    }
   ],
   "source": [
    "type(add).__mro__"
   ]
  },
  {
   "cell_type": "code",
   "execution_count": 49,
   "id": "302a0db1-fa96-4b6e-aebd-ddc790531ec3",
   "metadata": {},
   "outputs": [
    {
     "data": {
      "text/plain": [
       "function"
      ]
     },
     "execution_count": 49,
     "metadata": {},
     "output_type": "execute_result"
    }
   ],
   "source": [
    "type(User.__init__)"
   ]
  },
  {
   "cell_type": "code",
   "execution_count": 50,
   "id": "73b3d492-2783-400f-990d-653d6703d19e",
   "metadata": {},
   "outputs": [
    {
     "data": {
      "text/plain": [
       "(function, object)"
      ]
     },
     "execution_count": 50,
     "metadata": {},
     "output_type": "execute_result"
    }
   ],
   "source": [
    "type(User.__init__).__mro__"
   ]
  },
  {
   "cell_type": "code",
   "execution_count": 51,
   "id": "f0c7fa8a-57b0-4b06-bb23-02d0af01cdf7",
   "metadata": {},
   "outputs": [
    {
     "data": {
      "text/plain": [
       "['__class__',\n",
       " '__delattr__',\n",
       " '__dict__',\n",
       " '__dir__',\n",
       " '__doc__',\n",
       " '__eq__',\n",
       " '__firstlineno__',\n",
       " '__format__',\n",
       " '__ge__',\n",
       " '__getattribute__',\n",
       " '__getstate__',\n",
       " '__gt__',\n",
       " '__hash__',\n",
       " '__init__',\n",
       " '__init_subclass__',\n",
       " '__le__',\n",
       " '__lt__',\n",
       " '__module__',\n",
       " '__ne__',\n",
       " '__new__',\n",
       " '__reduce__',\n",
       " '__reduce_ex__',\n",
       " '__repr__',\n",
       " '__setattr__',\n",
       " '__sizeof__',\n",
       " '__static_attributes__',\n",
       " '__str__',\n",
       " '__subclasshook__',\n",
       " '__weakref__',\n",
       " 'increase_age']"
      ]
     },
     "execution_count": 51,
     "metadata": {},
     "output_type": "execute_result"
    }
   ],
   "source": [
    "dir(User)"
   ]
  },
  {
   "cell_type": "code",
   "execution_count": 52,
   "id": "0b9f67b4-6ba8-4799-bdd8-be8b1f64a7eb",
   "metadata": {},
   "outputs": [
    {
     "data": {
      "text/plain": [
       "['__abstractmethods__',\n",
       " '__annotations__',\n",
       " '__base__',\n",
       " '__bases__',\n",
       " '__basicsize__',\n",
       " '__call__',\n",
       " '__class__',\n",
       " '__delattr__',\n",
       " '__dict__',\n",
       " '__dictoffset__',\n",
       " '__dir__',\n",
       " '__doc__',\n",
       " '__eq__',\n",
       " '__flags__',\n",
       " '__format__',\n",
       " '__ge__',\n",
       " '__getattribute__',\n",
       " '__getstate__',\n",
       " '__gt__',\n",
       " '__hash__',\n",
       " '__init__',\n",
       " '__init_subclass__',\n",
       " '__instancecheck__',\n",
       " '__itemsize__',\n",
       " '__le__',\n",
       " '__lt__',\n",
       " '__module__',\n",
       " '__mro__',\n",
       " '__name__',\n",
       " '__ne__',\n",
       " '__new__',\n",
       " '__or__',\n",
       " '__prepare__',\n",
       " '__qualname__',\n",
       " '__reduce__',\n",
       " '__reduce_ex__',\n",
       " '__repr__',\n",
       " '__ror__',\n",
       " '__setattr__',\n",
       " '__sizeof__',\n",
       " '__str__',\n",
       " '__subclasscheck__',\n",
       " '__subclasses__',\n",
       " '__subclasshook__',\n",
       " '__text_signature__',\n",
       " '__type_params__',\n",
       " '__weakrefoffset__',\n",
       " 'mro']"
      ]
     },
     "execution_count": 52,
     "metadata": {},
     "output_type": "execute_result"
    }
   ],
   "source": [
    "dir(type)"
   ]
  },
  {
   "cell_type": "code",
   "execution_count": 53,
   "id": "9963d3b2-cfea-4628-baab-6bd77b560aaf",
   "metadata": {},
   "outputs": [
    {
     "data": {
      "text/plain": [
       "['__call__',\n",
       " '__class__',\n",
       " '__delattr__',\n",
       " '__dir__',\n",
       " '__doc__',\n",
       " '__eq__',\n",
       " '__format__',\n",
       " '__ge__',\n",
       " '__getattribute__',\n",
       " '__getstate__',\n",
       " '__gt__',\n",
       " '__hash__',\n",
       " '__init__',\n",
       " '__init_subclass__',\n",
       " '__le__',\n",
       " '__lt__',\n",
       " '__module__',\n",
       " '__name__',\n",
       " '__ne__',\n",
       " '__new__',\n",
       " '__qualname__',\n",
       " '__reduce__',\n",
       " '__reduce_ex__',\n",
       " '__repr__',\n",
       " '__self__',\n",
       " '__setattr__',\n",
       " '__sizeof__',\n",
       " '__str__',\n",
       " '__subclasshook__',\n",
       " '__text_signature__']"
      ]
     },
     "execution_count": 53,
     "metadata": {},
     "output_type": "execute_result"
    }
   ],
   "source": [
    "dir(dir)"
   ]
  },
  {
   "cell_type": "code",
   "execution_count": 54,
   "id": "1ae65be5-b9e5-43b0-a0e5-fb19847e319f",
   "metadata": {},
   "outputs": [
    {
     "name": "stdout",
     "output_type": "stream",
     "text": [
      "Help on built-in function dir in module builtins:\n",
      "\n",
      "dir(...)\n",
      "    dir([object]) -> list of strings\n",
      "\n",
      "    If called without an argument, return the names in the current scope.\n",
      "    Else, return an alphabetized list of names comprising (some of) the attributes\n",
      "    of the given object, and of attributes reachable from it.\n",
      "    If the object supplies a method named __dir__, it will be used; otherwise\n",
      "    the default dir() logic is used and returns:\n",
      "      for a module object: the module's attributes.\n",
      "      for a class object:  its attributes, and recursively the attributes\n",
      "        of its bases.\n",
      "      for any other object: its attributes, its class's attributes, and\n",
      "        recursively the attributes of its class's base classes.\n",
      "\n"
     ]
    }
   ],
   "source": [
    "help(dir)"
   ]
  },
  {
   "cell_type": "code",
   "execution_count": 55,
   "id": "292f590c-d168-4ddc-be8a-94d393cd0e92",
   "metadata": {},
   "outputs": [
    {
     "data": {
      "text/plain": [
       "{'age': 1, 'username': 'bob'}"
      ]
     },
     "execution_count": 55,
     "metadata": {},
     "output_type": "execute_result"
    }
   ],
   "source": [
    "bob.__dict__"
   ]
  },
  {
   "cell_type": "code",
   "execution_count": 56,
   "id": "d29f01fd-f166-44fc-9dee-06df7d318c38",
   "metadata": {},
   "outputs": [],
   "source": [
    "bob.email = \"bob@example.com\""
   ]
  },
  {
   "cell_type": "code",
   "execution_count": 57,
   "id": "b0278d0e-af6e-487a-9ead-2c10e102269f",
   "metadata": {},
   "outputs": [
    {
     "data": {
      "text/plain": [
       "'bob@example.com'"
      ]
     },
     "execution_count": 57,
     "metadata": {},
     "output_type": "execute_result"
    }
   ],
   "source": [
    "bob.email"
   ]
  },
  {
   "cell_type": "code",
   "execution_count": 58,
   "id": "158870ca-0fca-4b20-beb3-a2339349600a",
   "metadata": {},
   "outputs": [
    {
     "data": {
      "text/plain": [
       "{'age': 1, 'username': 'bob', 'email': 'bob@example.com'}"
      ]
     },
     "execution_count": 58,
     "metadata": {},
     "output_type": "execute_result"
    }
   ],
   "source": [
    "bob.__dict__"
   ]
  },
  {
   "cell_type": "code",
   "execution_count": 59,
   "id": "a8126377-f9da-4ad2-ac80-25cea15f8811",
   "metadata": {},
   "outputs": [
    {
     "data": {
      "text/plain": [
       "{'username': None}"
      ]
     },
     "execution_count": 59,
     "metadata": {},
     "output_type": "execute_result"
    }
   ],
   "source": [
    "alice.__dict__"
   ]
  },
  {
   "cell_type": "code",
   "execution_count": 60,
   "id": "5d3bd69f-53eb-4f41-8701-19d69a84cff8",
   "metadata": {},
   "outputs": [],
   "source": [
    "class User:\n",
    "    def __init__(self, username, age=0):\n",
    "        self.username = username\n",
    "        self._age = age\n",
    "\n",
    "    @property\n",
    "    def age(self):\n",
    "        return self._age"
   ]
  },
  {
   "cell_type": "code",
   "execution_count": 61,
   "id": "eedc832a-b743-4491-9bab-ee45a5d4606e",
   "metadata": {},
   "outputs": [
    {
     "name": "stdout",
     "output_type": "stream",
     "text": [
      "0\n"
     ]
    }
   ],
   "source": [
    "alice = User(\"alice\")\n",
    "print(alice.age)"
   ]
  },
  {
   "cell_type": "code",
   "execution_count": 62,
   "id": "395aa601-5885-4d1c-940e-f824e1395221",
   "metadata": {},
   "outputs": [],
   "source": [
    "alice._age = 100"
   ]
  },
  {
   "cell_type": "code",
   "execution_count": 63,
   "id": "ffe5491d-a3b4-40e7-a754-26f321227f9d",
   "metadata": {},
   "outputs": [
    {
     "name": "stdout",
     "output_type": "stream",
     "text": [
      "100\n"
     ]
    }
   ],
   "source": [
    "print(alice.age)"
   ]
  },
  {
   "cell_type": "code",
   "execution_count": 64,
   "id": "833dcb5a-abc1-49ab-b20a-9b229af2c6ec",
   "metadata": {},
   "outputs": [],
   "source": [
    "alice._age = \"twenty\""
   ]
  },
  {
   "cell_type": "code",
   "execution_count": 65,
   "id": "a62ab9ca-4b5a-4df2-adf7-9ac7da429811",
   "metadata": {},
   "outputs": [
    {
     "name": "stdout",
     "output_type": "stream",
     "text": [
      "twenty\n"
     ]
    }
   ],
   "source": [
    "print(alice.age)"
   ]
  },
  {
   "cell_type": "code",
   "execution_count": 66,
   "id": "5446f80b-ae16-4f79-b707-58605173d20e",
   "metadata": {},
   "outputs": [],
   "source": [
    "class User:\n",
    "    def __init__(self, username, age=0):\n",
    "        self.username = username\n",
    "        self._age = age\n",
    "\n",
    "    @property\n",
    "    def age(self):\n",
    "        return self._age\n",
    "\n",
    "    def set_age(self, age):\n",
    "        self._age = int(age)"
   ]
  },
  {
   "cell_type": "code",
   "execution_count": 67,
   "id": "bfa48ca7-7859-45e3-b835-e49d035d8c07",
   "metadata": {},
   "outputs": [
    {
     "name": "stdout",
     "output_type": "stream",
     "text": [
      "0\n",
      "10\n"
     ]
    }
   ],
   "source": [
    "alice = User(\"alice\")\n",
    "print(alice.age)\n",
    "alice.set_age(10.5)\n",
    "print(alice.age)"
   ]
  },
  {
   "cell_type": "code",
   "execution_count": 68,
   "id": "62d706d3-e3ef-4c25-8dd7-0c5c49d2dd76",
   "metadata": {},
   "outputs": [
    {
     "name": "stdout",
     "output_type": "stream",
     "text": [
      "42\n",
      "<class 'int'>\n"
     ]
    }
   ],
   "source": [
    "alice.set_age(\"42\")\n",
    "print(alice.age)\n",
    "print(type(alice.age))"
   ]
  },
  {
   "cell_type": "code",
   "execution_count": 69,
   "id": "b43162b6-f87a-4214-a88d-8983612cb249",
   "metadata": {},
   "outputs": [
    {
     "ename": "AttributeError",
     "evalue": "property 'age' of 'User' object has no setter",
     "output_type": "error",
     "traceback": [
      "\u001b[31m---------------------------------------------------------------------------\u001b[39m",
      "\u001b[31mAttributeError\u001b[39m                            Traceback (most recent call last)",
      "\u001b[36mCell\u001b[39m\u001b[36m \u001b[39m\u001b[32mIn[69]\u001b[39m\u001b[32m, line 1\u001b[39m\n\u001b[32m----> \u001b[39m\u001b[32m1\u001b[39m \u001b[43malice\u001b[49m\u001b[43m.\u001b[49m\u001b[43mage\u001b[49m = \u001b[33m\"\u001b[39m\u001b[33m42\u001b[39m\u001b[33m\"\u001b[39m\n",
      "\u001b[31mAttributeError\u001b[39m: property 'age' of 'User' object has no setter"
     ]
    }
   ],
   "source": [
    "alice.age = \"42\""
   ]
  },
  {
   "cell_type": "code",
   "execution_count": 70,
   "id": "b570f4fc-7506-4c10-9f30-79ec4084fdfa",
   "metadata": {},
   "outputs": [],
   "source": [
    "class User:\n",
    "    def __init__(self, username, age=0):\n",
    "        self.username = username\n",
    "        self._age = age\n",
    "\n",
    "    @property\n",
    "    def age(self):\n",
    "        return self._age\n",
    "\n",
    "    @age.setter\n",
    "    def age(self, age):\n",
    "        self._age = int(age)"
   ]
  },
  {
   "cell_type": "code",
   "execution_count": 71,
   "id": "557a0bbd-e735-400e-a082-ad49b0a82be1",
   "metadata": {},
   "outputs": [
    {
     "name": "stdout",
     "output_type": "stream",
     "text": [
      "0\n"
     ]
    }
   ],
   "source": [
    "alice = User(\"alice\")\n",
    "print(alice.age)"
   ]
  },
  {
   "cell_type": "code",
   "execution_count": 72,
   "id": "054321ce-a002-479f-9bd0-5275541a4dca",
   "metadata": {},
   "outputs": [
    {
     "name": "stdout",
     "output_type": "stream",
     "text": [
      "13\n",
      "<class 'int'>\n"
     ]
    }
   ],
   "source": [
    "alice.age = \"13\"\n",
    "\n",
    "print(alice.age)\n",
    "print(type(alice.age))"
   ]
  },
  {
   "cell_type": "code",
   "execution_count": 73,
   "id": "9595a138-82dc-4c3a-a7e1-1d903cab50a2",
   "metadata": {},
   "outputs": [
    {
     "ename": "ValueError",
     "evalue": "invalid literal for int() with base 10: 'twelve'",
     "output_type": "error",
     "traceback": [
      "\u001b[31m---------------------------------------------------------------------------\u001b[39m",
      "\u001b[31mValueError\u001b[39m                                Traceback (most recent call last)",
      "\u001b[36mCell\u001b[39m\u001b[36m \u001b[39m\u001b[32mIn[73]\u001b[39m\u001b[32m, line 1\u001b[39m\n\u001b[32m----> \u001b[39m\u001b[32m1\u001b[39m \u001b[43malice\u001b[49m\u001b[43m.\u001b[49m\u001b[43mage\u001b[49m = \u001b[33m\"\u001b[39m\u001b[33mtwelve\u001b[39m\u001b[33m\"\u001b[39m\n",
      "\u001b[36mCell\u001b[39m\u001b[36m \u001b[39m\u001b[32mIn[70]\u001b[39m\u001b[32m, line 12\u001b[39m, in \u001b[36mUser.age\u001b[39m\u001b[34m(self, age)\u001b[39m\n\u001b[32m     10\u001b[39m \u001b[38;5;129m@age\u001b[39m.setter\n\u001b[32m     11\u001b[39m \u001b[38;5;28;01mdef\u001b[39;00m\u001b[38;5;250m \u001b[39m\u001b[34mage\u001b[39m(\u001b[38;5;28mself\u001b[39m, age):\n\u001b[32m---> \u001b[39m\u001b[32m12\u001b[39m     \u001b[38;5;28mself\u001b[39m._age = \u001b[38;5;28;43mint\u001b[39;49m\u001b[43m(\u001b[49m\u001b[43mage\u001b[49m\u001b[43m)\u001b[49m\n",
      "\u001b[31mValueError\u001b[39m: invalid literal for int() with base 10: 'twelve'"
     ]
    }
   ],
   "source": [
    "alice.age = \"twelve\""
   ]
  },
  {
   "cell_type": "code",
   "execution_count": 81,
   "id": "f6a58580-a35c-4426-93f0-7fa3a2885fb2",
   "metadata": {},
   "outputs": [
    {
     "name": "stdout",
     "output_type": "stream",
     "text": [
      "initing low-level conn to 'redis:6379'\n",
      "starting connection to 'redis:6379'\n",
      "starting connection to 'redis:6379'\n"
     ]
    }
   ],
   "source": [
    "class LowLevelConnection:\n",
    "    def __init__(self, host, port):\n",
    "        self.host = host\n",
    "        self.port = port\n",
    "        print(f\"initing low-level conn to '{self.host}:{self.port}'\")\n",
    "\n",
    "    def start(self):\n",
    "        print(f\"starting connection to '{self.host}:{self.port}'\")\n",
    "\n",
    "\n",
    "class RedisConnection:\n",
    "    def __init__(self, host, port):\n",
    "        self.host = host\n",
    "        self.port = port\n",
    "        self._connection = None\n",
    "\n",
    "    @property\n",
    "    def connection(self):\n",
    "        if self._connection is None:\n",
    "            self._connection = LowLevelConnection(self.host, self.port)\n",
    "        return self._connection\n",
    "\n",
    "    def connect(self):\n",
    "        self.connection.start()\n",
    "\n",
    "\n",
    "def main():\n",
    "    redis_connection = RedisConnection(\"redis\", 6379)\n",
    "    redis_connection.connect()\n",
    "    redis_connection.connect()\n",
    "\n",
    "\n",
    "main()"
   ]
  },
  {
   "cell_type": "code",
   "execution_count": 82,
   "id": "bab67a4a-a9d4-4b9e-aec8-32dd385e82db",
   "metadata": {},
   "outputs": [],
   "source": [
    "class User:\n",
    "    def __init__(self, username):\n",
    "        self.username = username\n",
    "        self.__password = \"\""
   ]
  },
  {
   "cell_type": "code",
   "execution_count": 83,
   "id": "aa636a03-c1d3-4514-b139-2db837e00aaf",
   "metadata": {},
   "outputs": [
    {
     "name": "stdout",
     "output_type": "stream",
     "text": [
      "bob\n"
     ]
    }
   ],
   "source": [
    "bob = User(\"bob\")\n",
    "print(bob.username)"
   ]
  },
  {
   "cell_type": "code",
   "execution_count": 84,
   "id": "e379ec0a-fc8b-4e59-a634-f8901c57f450",
   "metadata": {},
   "outputs": [
    {
     "ename": "AttributeError",
     "evalue": "'User' object has no attribute '__password'",
     "output_type": "error",
     "traceback": [
      "\u001b[31m---------------------------------------------------------------------------\u001b[39m",
      "\u001b[31mAttributeError\u001b[39m                            Traceback (most recent call last)",
      "\u001b[36mCell\u001b[39m\u001b[36m \u001b[39m\u001b[32mIn[84]\u001b[39m\u001b[32m, line 1\u001b[39m\n\u001b[32m----> \u001b[39m\u001b[32m1\u001b[39m \u001b[38;5;28mprint\u001b[39m(\u001b[43mbob\u001b[49m\u001b[43m.\u001b[49m\u001b[43m__password\u001b[49m)\n",
      "\u001b[31mAttributeError\u001b[39m: 'User' object has no attribute '__password'"
     ]
    }
   ],
   "source": [
    "print(bob.__password)"
   ]
  },
  {
   "cell_type": "code",
   "execution_count": 91,
   "id": "9d73d0b8-5094-4630-8843-fe660480b8bf",
   "metadata": {},
   "outputs": [],
   "source": [
    "from hashlib import md5\n",
    "\n",
    "\n",
    "class User:\n",
    "    def __init__(self, username):\n",
    "        self.username = username\n",
    "        self.__password = \"\"\n",
    "\n",
    "    @property\n",
    "    def password(self):\n",
    "        return self.__password\n",
    "\n",
    "    @password.setter\n",
    "    def password(self, raw_password):\n",
    "        self.__password = str(md5(raw_password.encode()).hexdigest())"
   ]
  },
  {
   "cell_type": "code",
   "execution_count": 93,
   "id": "078e7081-b72a-4718-98bd-c87add72ef76",
   "metadata": {},
   "outputs": [
    {
     "name": "stdout",
     "output_type": "stream",
     "text": [
      "bob\n",
      "\n",
      "3858f62230ac3c915f300c664312c63f\n"
     ]
    }
   ],
   "source": [
    "bob = User(\"bob\")\n",
    "print(bob.username)\n",
    "print(bob.password)\n",
    "bob.password = \"foobar\"\n",
    "print(bob.password)"
   ]
  },
  {
   "cell_type": "code",
   "execution_count": 94,
   "id": "5bdecc48-6d8a-48e1-aff0-44985d00191c",
   "metadata": {},
   "outputs": [
    {
     "data": {
      "text/plain": [
       "{'username': 'bob', '_User__password': '3858f62230ac3c915f300c664312c63f'}"
      ]
     },
     "execution_count": 94,
     "metadata": {},
     "output_type": "execute_result"
    }
   ],
   "source": [
    "bob.__dict__"
   ]
  },
  {
   "cell_type": "code",
   "execution_count": 95,
   "id": "a09f9483-0bb6-4073-9df3-bc3aa19a54c6",
   "metadata": {},
   "outputs": [
    {
     "data": {
      "text/plain": [
       "'3858f62230ac3c915f300c664312c63f'"
      ]
     },
     "execution_count": 95,
     "metadata": {},
     "output_type": "execute_result"
    }
   ],
   "source": [
    "bob._User__password"
   ]
  },
  {
   "cell_type": "code",
   "execution_count": 96,
   "id": "62036891-e973-4ef9-89a6-8d7d9a178ab4",
   "metadata": {},
   "outputs": [],
   "source": [
    "bob._User__password = \"broken\""
   ]
  },
  {
   "cell_type": "code",
   "execution_count": 97,
   "id": "06f8f4ca-3ccb-43b8-b894-aecdb6dece18",
   "metadata": {},
   "outputs": [
    {
     "data": {
      "text/plain": [
       "'broken'"
      ]
     },
     "execution_count": 97,
     "metadata": {},
     "output_type": "execute_result"
    }
   ],
   "source": [
    "bob.password"
   ]
  },
  {
   "cell_type": "code",
   "execution_count": 98,
   "id": "ea0f47e8-39e8-4068-af96-075238bef6e4",
   "metadata": {},
   "outputs": [
    {
     "name": "stdout",
     "output_type": "stream",
     "text": [
      "admin\n",
      "\n",
      "3858f62230ac3c915f300c664312c63f\n"
     ]
    }
   ],
   "source": [
    "class SuperUser(User):\n",
    "    def do_admin_stuff(self):\n",
    "        pass\n",
    "\n",
    "admin = SuperUser(\"admin\")\n",
    "print(admin.username)\n",
    "print(admin.password)\n",
    "admin.password = \"foobar\"\n",
    "print(admin.password)"
   ]
  },
  {
   "cell_type": "code",
   "execution_count": 99,
   "id": "7a41c897-33d6-4229-a119-d6d91d796e44",
   "metadata": {},
   "outputs": [
    {
     "data": {
      "text/plain": [
       "{'username': 'admin', '_User__password': '3858f62230ac3c915f300c664312c63f'}"
      ]
     },
     "execution_count": 99,
     "metadata": {},
     "output_type": "execute_result"
    }
   ],
   "source": [
    "vars(admin)"
   ]
  },
  {
   "cell_type": "code",
   "execution_count": 100,
   "id": "c2d5a51b-0782-484d-8b38-04ce19dc49a6",
   "metadata": {},
   "outputs": [],
   "source": [
    "class Car:\n",
    "    def __init__(self, wheels):\n",
    "        self.wheels = wheels\n",
    "\n",
    "    def honk(self):\n",
    "        print(\"car beeps: honk honk\")\n",
    "\n",
    "\n",
    "class Ship:\n",
    "    def __init__(self, cabins):\n",
    "        self.cabins = cabins\n",
    "\n",
    "    def sail(self):\n",
    "        print(\"raise the sails!\")"
   ]
  },
  {
   "cell_type": "code",
   "execution_count": 101,
   "id": "4f8961b9-0269-481b-83f1-13e43be2f4ae",
   "metadata": {},
   "outputs": [],
   "source": [
    "class Amphibian(Car, Ship):\n",
    "    def __init__(self, wheels, cabins):\n",
    "        # self.cabins = cabins\n",
    "        Car.__init__(self, wheels)\n",
    "        Ship.__init__(self, cabins)\n",
    "\n",
    "    def transform(self):\n",
    "        print(\"transforming\")"
   ]
  },
  {
   "cell_type": "code",
   "execution_count": 102,
   "id": "75c292c5-b655-4035-ade6-34185a5a287e",
   "metadata": {},
   "outputs": [
    {
     "name": "stdout",
     "output_type": "stream",
     "text": [
      "wheels: 4\n",
      "cabins: 1\n"
     ]
    }
   ],
   "source": [
    "am = Amphibian(wheels=4, cabins=1)\n",
    "print(\"wheels:\", am.wheels)\n",
    "print(\"cabins:\", am.cabins)"
   ]
  },
  {
   "cell_type": "code",
   "execution_count": 103,
   "id": "99d405e0-296e-4f2e-99b3-f927dd0a2fbd",
   "metadata": {},
   "outputs": [
    {
     "name": "stdout",
     "output_type": "stream",
     "text": [
      "car beeps: honk honk\n"
     ]
    }
   ],
   "source": [
    "am.honk()"
   ]
  },
  {
   "cell_type": "code",
   "execution_count": 104,
   "id": "57ea3319-4eb1-45b6-9dd6-c867d1616084",
   "metadata": {},
   "outputs": [
    {
     "name": "stdout",
     "output_type": "stream",
     "text": [
      "raise the sails!\n"
     ]
    }
   ],
   "source": [
    "am.sail()"
   ]
  },
  {
   "cell_type": "code",
   "execution_count": 105,
   "id": "4092e4ce-186d-4215-9262-b2913a67935e",
   "metadata": {},
   "outputs": [
    {
     "name": "stdout",
     "output_type": "stream",
     "text": [
      "transforming\n"
     ]
    }
   ],
   "source": [
    "am.transform()"
   ]
  },
  {
   "cell_type": "code",
   "execution_count": 107,
   "id": "9db5d010-430a-4e68-b0f0-7d8a7c167117",
   "metadata": {},
   "outputs": [
    {
     "data": {
      "text/plain": [
       "[__main__.Amphibian, __main__.Car, __main__.Ship, object]"
      ]
     },
     "execution_count": 107,
     "metadata": {},
     "output_type": "execute_result"
    }
   ],
   "source": [
    "type(am).mro()"
   ]
  },
  {
   "cell_type": "code",
   "execution_count": 108,
   "id": "2d01ec06-1f69-4e8c-85a3-210c53409bb6",
   "metadata": {},
   "outputs": [],
   "source": [
    "class User:\n",
    "    def __init__(self, username, age):\n",
    "        self.username = username\n",
    "        self._age = age\n",
    "\n",
    "    @property\n",
    "    def age(self):\n",
    "        return self._age\n",
    "\n",
    "    @age.setter\n",
    "    def age(self, age):\n",
    "        self._age = int(age)\n",
    "\n",
    "    def action(self, spam):\n",
    "        print(\"user acting\", spam, self)\n",
    "\n",
    "\n",
    "class SuperUser(User):\n",
    "    def __init__(self, username, age, permissions):\n",
    "        super().__init__(username, age)\n",
    "        self.permissions = permissions\n",
    "\n",
    "    def action(self, spam, eggs):\n",
    "        super().action(spam)\n",
    "        print(\"superuser acting\", eggs, self)"
   ]
  },
  {
   "cell_type": "code",
   "execution_count": 113,
   "id": "6e719813-0b17-4945-9057-af2163d9643a",
   "metadata": {},
   "outputs": [],
   "source": [
    "bob = User(\"bob\", 42)\n",
    "admin = SuperUser(\"admin\", 33, [\"read_stuff\", \"edit_stuff\"])"
   ]
  },
  {
   "cell_type": "code",
   "execution_count": 114,
   "id": "04e41a08-e5d5-4516-9610-b9eadef99569",
   "metadata": {},
   "outputs": [
    {
     "name": "stdout",
     "output_type": "stream",
     "text": [
      "bob\n",
      "admin\n"
     ]
    }
   ],
   "source": [
    "print(bob.username)\n",
    "print(admin.username)"
   ]
  },
  {
   "cell_type": "code",
   "execution_count": 116,
   "id": "c6bacf24-4a87-4d76-b4e9-6e27906983fa",
   "metadata": {},
   "outputs": [
    {
     "name": "stdout",
     "output_type": "stream",
     "text": [
      "['read_stuff', 'edit_stuff']\n"
     ]
    }
   ],
   "source": [
    "print(admin.permissions)"
   ]
  },
  {
   "cell_type": "code",
   "execution_count": 117,
   "id": "84a0ca04-611b-44c3-8250-3a63184a8f4a",
   "metadata": {},
   "outputs": [
    {
     "name": "stdout",
     "output_type": "stream",
     "text": [
      "<class '__main__.User'>\n",
      "<class '__main__.SuperUser'>\n"
     ]
    }
   ],
   "source": [
    "print(type(bob))\n",
    "print(type(admin))"
   ]
  },
  {
   "cell_type": "code",
   "execution_count": 118,
   "id": "68a07d64-2707-451b-a577-7b195f9270a0",
   "metadata": {},
   "outputs": [
    {
     "name": "stdout",
     "output_type": "stream",
     "text": [
      "(<class '__main__.User'>, <class 'object'>)\n",
      "(<class '__main__.SuperUser'>, <class '__main__.User'>, <class 'object'>)\n"
     ]
    }
   ],
   "source": [
    "print(type(bob).__mro__)\n",
    "print(type(admin).__mro__)"
   ]
  },
  {
   "cell_type": "code",
   "execution_count": 119,
   "id": "df5e155e-205b-41fc-9542-78aa687cbd91",
   "metadata": {},
   "outputs": [
    {
     "data": {
      "text/plain": [
       "33"
      ]
     },
     "execution_count": 119,
     "metadata": {},
     "output_type": "execute_result"
    }
   ],
   "source": [
    "admin.age"
   ]
  },
  {
   "cell_type": "code",
   "execution_count": 120,
   "id": "f91ca242-4ad1-4b61-bbf0-438243173a79",
   "metadata": {},
   "outputs": [
    {
     "name": "stdout",
     "output_type": "stream",
     "text": [
      "user acting foobar <__main__.User object at 0x10acf3360>\n"
     ]
    }
   ],
   "source": [
    "bob.action(\"foobar\")"
   ]
  },
  {
   "cell_type": "code",
   "execution_count": 121,
   "id": "96f086f7-b2f3-4cc7-b056-8cfb7fce869b",
   "metadata": {},
   "outputs": [
    {
     "name": "stdout",
     "output_type": "stream",
     "text": [
      "user acting fizz <__main__.SuperUser object at 0x10a9f9590>\n",
      "superuser acting buzz <__main__.SuperUser object at 0x10a9f9590>\n"
     ]
    }
   ],
   "source": [
    "admin.action(\"fizz\", \"buzz\")"
   ]
  },
  {
   "cell_type": "code",
   "execution_count": 123,
   "id": "5cf4ffc8-c3fd-4141-a309-2687af31dc9e",
   "metadata": {},
   "outputs": [],
   "source": [
    "from datetime import datetime\n",
    "\n",
    "\n",
    "class IdMixin:\n",
    "    @property\n",
    "    def id(self):\n",
    "        return 42\n",
    "\n",
    "\n",
    "class CreatedUpdatedMixin:\n",
    "    \n",
    "    @property\n",
    "    def created(self):\n",
    "        return datetime.now()\n",
    "\n",
    "    @property\n",
    "    def updated(self):\n",
    "        return datetime.now()"
   ]
  },
  {
   "cell_type": "code",
   "execution_count": 124,
   "id": "e12b1140-c7b6-4481-99b2-606e7811fee1",
   "metadata": {},
   "outputs": [],
   "source": [
    "class Base:\n",
    "    def common(self):\n",
    "        pass\n",
    "\n",
    "\n",
    "class Manager(IdMixin, Base):\n",
    "    email = \"str\"\n",
    "\n",
    "\n",
    "class Product(IdMixin, CreatedUpdatedMixin, Base):\n",
    "    name = \"\"\n",
    "    description = \"\""
   ]
  },
  {
   "cell_type": "code",
   "execution_count": 127,
   "id": "3d888c7b-ec6d-47dd-873e-ef29edaf3757",
   "metadata": {},
   "outputs": [
    {
     "data": {
      "text/plain": [
       "['common', 'email', 'id']"
      ]
     },
     "execution_count": 127,
     "metadata": {},
     "output_type": "execute_result"
    }
   ],
   "source": [
    "[name for name in dir(Manager) if not name.startswith(\"__\")]"
   ]
  },
  {
   "cell_type": "code",
   "execution_count": 128,
   "id": "83113895-a842-4fad-87b0-1a3551579872",
   "metadata": {},
   "outputs": [
    {
     "data": {
      "text/plain": [
       "['common', 'created', 'description', 'id', 'name', 'updated']"
      ]
     },
     "execution_count": 128,
     "metadata": {},
     "output_type": "execute_result"
    }
   ],
   "source": [
    "[name for name in dir(Product) if not name.startswith(\"__\")]"
   ]
  },
  {
   "cell_type": "code",
   "execution_count": 129,
   "id": "687a69ed-e940-479d-9900-4c23b2ebe172",
   "metadata": {},
   "outputs": [
    {
     "data": {
      "text/plain": [
       "['name', 'description']"
      ]
     },
     "execution_count": 129,
     "metadata": {},
     "output_type": "execute_result"
    }
   ],
   "source": [
    "[name for name in Product.__dict__ if not name.startswith(\"__\")]"
   ]
  },
  {
   "cell_type": "code",
   "execution_count": null,
   "id": "8e66e38a-3507-4808-923c-616a0f27f63e",
   "metadata": {},
   "outputs": [],
   "source": []
  }
 ],
 "metadata": {
  "kernelspec": {
   "display_name": "Python 3 (ipykernel)",
   "language": "python",
   "name": "python3"
  },
  "language_info": {
   "codemirror_mode": {
    "name": "ipython",
    "version": 3
   },
   "file_extension": ".py",
   "mimetype": "text/x-python",
   "name": "python",
   "nbconvert_exporter": "python",
   "pygments_lexer": "ipython3",
   "version": "3.13.2"
  }
 },
 "nbformat": 4,
 "nbformat_minor": 5
}
